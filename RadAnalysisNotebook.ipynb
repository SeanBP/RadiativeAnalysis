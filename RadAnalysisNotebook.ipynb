{
 "cells": [
  {
   "cell_type": "code",
   "execution_count": 1,
   "metadata": {},
   "outputs": [],
   "source": [
    "import uproot as ur\n",
    "from math import trunc\n",
    "import matplotlib.pyplot as plt\n",
    "import numpy as np\n",
    "import awkward as ak\n",
    "import matplotlib as mpl\n",
    "import mplhep as hep\n",
    "from matplotlib.colors import LogNorm\n",
    "plt.style.use(hep.style.CMS)"
   ]
  },
  {
   "cell_type": "code",
   "execution_count": 2,
   "metadata": {},
   "outputs": [
    {
     "name": "stdout",
     "output_type": "stream",
     "text": [
      "<TTree 'data' (17 branches) at 0x7fe134108f90>\n"
     ]
    }
   ],
   "source": [
    "file = ur.open('Kin.djangoh.NC.Rad.20x250_evt.root:data;1')\n",
    "print(file)"
   ]
  },
  {
   "cell_type": "code",
   "execution_count": 3,
   "metadata": {},
   "outputs": [
    {
     "data": {
      "text/plain": [
       "['electronX',\n",
       " 'electronY',\n",
       " 'electronQ2',\n",
       " 'hadronX',\n",
       " 'hadronY',\n",
       " 'hadronQ2',\n",
       " 'DoubleAngleX',\n",
       " 'DoubleAngleY',\n",
       " 'DoubleAngleQ2',\n",
       " 'ISigmaX',\n",
       " 'ISigmaY',\n",
       " 'ISigmaQ2',\n",
       " 'TrueX',\n",
       " 'TrueY',\n",
       " 'TrueQ2',\n",
       " 'sigma',\n",
       " 'evtChannel']"
      ]
     },
     "execution_count": 3,
     "metadata": {},
     "output_type": "execute_result"
    }
   ],
   "source": [
    "file.keys()"
   ]
  },
  {
   "cell_type": "code",
   "execution_count": 4,
   "metadata": {},
   "outputs": [],
   "source": [
    "qed = file.arrays(['electronX','electronY','electronQ2','hadronX','hadronY','hadronQ2','DoubleAngleX','DoubleAngleY','DoubleAngleQ2','ISigmaX','ISigmaY','ISigmaQ2','TrueX','TrueY','TrueQ2','evtChannel'],library='pd')"
   ]
  },
  {
   "cell_type": "code",
   "execution_count": 5,
   "metadata": {},
   "outputs": [
    {
     "data": {
      "text/html": [
       "<div>\n",
       "<style scoped>\n",
       "    .dataframe tbody tr th:only-of-type {\n",
       "        vertical-align: middle;\n",
       "    }\n",
       "\n",
       "    .dataframe tbody tr th {\n",
       "        vertical-align: top;\n",
       "    }\n",
       "\n",
       "    .dataframe thead th {\n",
       "        text-align: right;\n",
       "    }\n",
       "</style>\n",
       "<table border=\"1\" class=\"dataframe\">\n",
       "  <thead>\n",
       "    <tr style=\"text-align: right;\">\n",
       "      <th></th>\n",
       "      <th>electronX</th>\n",
       "      <th>electronY</th>\n",
       "      <th>electronQ2</th>\n",
       "      <th>hadronX</th>\n",
       "      <th>hadronY</th>\n",
       "      <th>hadronQ2</th>\n",
       "      <th>DoubleAngleX</th>\n",
       "      <th>DoubleAngleY</th>\n",
       "      <th>DoubleAngleQ2</th>\n",
       "      <th>ISigmaX</th>\n",
       "      <th>ISigmaY</th>\n",
       "      <th>ISigmaQ2</th>\n",
       "      <th>TrueX</th>\n",
       "      <th>TrueY</th>\n",
       "      <th>TrueQ2</th>\n",
       "      <th>evtChannel</th>\n",
       "    </tr>\n",
       "  </thead>\n",
       "  <tbody>\n",
       "    <tr>\n",
       "      <th>0</th>\n",
       "      <td>0.001175</td>\n",
       "      <td>0.101118</td>\n",
       "      <td>2.376652</td>\n",
       "      <td>0.001175</td>\n",
       "      <td>0.101162</td>\n",
       "      <td>2.376773</td>\n",
       "      <td>0.001175</td>\n",
       "      <td>0.101157</td>\n",
       "      <td>2.376550</td>\n",
       "      <td>0.001175</td>\n",
       "      <td>0.101157</td>\n",
       "      <td>2.376759</td>\n",
       "      <td>0.001175</td>\n",
       "      <td>0.101118</td>\n",
       "      <td>2.376656</td>\n",
       "      <td>1</td>\n",
       "    </tr>\n",
       "    <tr>\n",
       "      <th>1</th>\n",
       "      <td>0.003766</td>\n",
       "      <td>0.019158</td>\n",
       "      <td>1.442890</td>\n",
       "      <td>0.003757</td>\n",
       "      <td>0.019201</td>\n",
       "      <td>1.442954</td>\n",
       "      <td>0.003757</td>\n",
       "      <td>0.019201</td>\n",
       "      <td>1.442827</td>\n",
       "      <td>0.003757</td>\n",
       "      <td>0.019201</td>\n",
       "      <td>1.442954</td>\n",
       "      <td>0.003766</td>\n",
       "      <td>0.019158</td>\n",
       "      <td>1.442891</td>\n",
       "      <td>1</td>\n",
       "    </tr>\n",
       "    <tr>\n",
       "      <th>2</th>\n",
       "      <td>0.002043</td>\n",
       "      <td>0.026046</td>\n",
       "      <td>1.064057</td>\n",
       "      <td>0.002052</td>\n",
       "      <td>0.026131</td>\n",
       "      <td>1.072553</td>\n",
       "      <td>0.002044</td>\n",
       "      <td>0.026029</td>\n",
       "      <td>1.064076</td>\n",
       "      <td>0.002036</td>\n",
       "      <td>0.026129</td>\n",
       "      <td>1.064147</td>\n",
       "      <td>0.003068</td>\n",
       "      <td>0.017499</td>\n",
       "      <td>1.073873</td>\n",
       "      <td>7</td>\n",
       "    </tr>\n",
       "    <tr>\n",
       "      <th>3</th>\n",
       "      <td>0.002475</td>\n",
       "      <td>0.174806</td>\n",
       "      <td>8.654171</td>\n",
       "      <td>0.010148</td>\n",
       "      <td>0.036593</td>\n",
       "      <td>7.427180</td>\n",
       "      <td>0.011837</td>\n",
       "      <td>0.042422</td>\n",
       "      <td>10.042539</td>\n",
       "      <td>0.010191</td>\n",
       "      <td>0.042462</td>\n",
       "      <td>7.458053</td>\n",
       "      <td>0.010222</td>\n",
       "      <td>0.036549</td>\n",
       "      <td>7.471677</td>\n",
       "      <td>6</td>\n",
       "    </tr>\n",
       "    <tr>\n",
       "      <th>4</th>\n",
       "      <td>0.002101</td>\n",
       "      <td>0.044787</td>\n",
       "      <td>1.881828</td>\n",
       "      <td>0.048878</td>\n",
       "      <td>0.001922</td>\n",
       "      <td>1.878702</td>\n",
       "      <td>0.050004</td>\n",
       "      <td>0.001966</td>\n",
       "      <td>1.966190</td>\n",
       "      <td>0.046861</td>\n",
       "      <td>0.002008</td>\n",
       "      <td>1.801164</td>\n",
       "      <td>0.048717</td>\n",
       "      <td>0.001833</td>\n",
       "      <td>1.786001</td>\n",
       "      <td>6</td>\n",
       "    </tr>\n",
       "  </tbody>\n",
       "</table>\n",
       "</div>"
      ],
      "text/plain": [
       "   electronX  electronY  electronQ2   hadronX   hadronY  hadronQ2  \\\n",
       "0   0.001175   0.101118    2.376652  0.001175  0.101162  2.376773   \n",
       "1   0.003766   0.019158    1.442890  0.003757  0.019201  1.442954   \n",
       "2   0.002043   0.026046    1.064057  0.002052  0.026131  1.072553   \n",
       "3   0.002475   0.174806    8.654171  0.010148  0.036593  7.427180   \n",
       "4   0.002101   0.044787    1.881828  0.048878  0.001922  1.878702   \n",
       "\n",
       "   DoubleAngleX  DoubleAngleY  DoubleAngleQ2   ISigmaX   ISigmaY  ISigmaQ2  \\\n",
       "0      0.001175      0.101157       2.376550  0.001175  0.101157  2.376759   \n",
       "1      0.003757      0.019201       1.442827  0.003757  0.019201  1.442954   \n",
       "2      0.002044      0.026029       1.064076  0.002036  0.026129  1.064147   \n",
       "3      0.011837      0.042422      10.042539  0.010191  0.042462  7.458053   \n",
       "4      0.050004      0.001966       1.966190  0.046861  0.002008  1.801164   \n",
       "\n",
       "      TrueX     TrueY    TrueQ2  evtChannel  \n",
       "0  0.001175  0.101118  2.376656           1  \n",
       "1  0.003766  0.019158  1.442891           1  \n",
       "2  0.003068  0.017499  1.073873           7  \n",
       "3  0.010222  0.036549  7.471677           6  \n",
       "4  0.048717  0.001833  1.786001           6  "
      ]
     },
     "execution_count": 5,
     "metadata": {},
     "output_type": "execute_result"
    }
   ],
   "source": [
    "qed.head()"
   ]
  },
  {
   "cell_type": "code",
   "execution_count": 6,
   "metadata": {},
   "outputs": [],
   "source": [
    "noraddf = qed[qed.evtChannel==1]\n",
    "raddf = qed[qed.evtChannel==0]"
   ]
  },
  {
   "cell_type": "code",
   "execution_count": 29,
   "metadata": {
    "scrolled": false
   },
   "outputs": [
    {
     "name": "stdout",
     "output_type": "stream",
     "text": [
      "[[3.42100047e-07 8.59316465e-07 2.15850537e-06 5.42192035e-06\n",
      "  1.36192482e-05 3.42100047e-05 8.59316465e-05 2.15850537e-04\n",
      "  5.42192035e-04 1.36192482e-03 3.42100047e-03 8.59316465e-03\n",
      "  2.15850537e-02 5.42192035e-02 1.36192482e-01]\n",
      " [8.59316465e-07 2.15850537e-06 5.42192035e-06 1.36192482e-05\n",
      "  3.42100047e-05 8.59316465e-05 2.15850537e-04 5.42192035e-04\n",
      "  1.36192482e-03 3.42100047e-03 8.59316465e-03 2.15850537e-02\n",
      "  5.42192035e-02 1.36192482e-01 3.42100047e-01]\n",
      " [2.15850537e-06 5.42192035e-06 1.36192482e-05 3.42100047e-05\n",
      "  8.59316465e-05 2.15850537e-04 5.42192035e-04 1.36192482e-03\n",
      "  3.42100047e-03 8.59316465e-03 2.15850537e-02 5.42192035e-02\n",
      "  1.36192482e-01 3.42100047e-01 8.59316465e-01]\n",
      " [5.42192035e-06 1.36192482e-05 3.42100047e-05 8.59316465e-05\n",
      "  2.15850537e-04 5.42192035e-04 1.36192482e-03 3.42100047e-03\n",
      "  8.59316465e-03 2.15850537e-02 5.42192035e-02 1.36192482e-01\n",
      "  3.42100047e-01 8.59316465e-01 2.15850537e+00]\n",
      " [1.36192482e-05 3.42100047e-05 8.59316465e-05 2.15850537e-04\n",
      "  5.42192035e-04 1.36192482e-03 3.42100047e-03 8.59316465e-03\n",
      "  2.15850537e-02 5.42192035e-02 1.36192482e-01 3.42100047e-01\n",
      "  8.59316465e-01 2.15850537e+00 5.42192035e+00]\n",
      " [3.42100047e-05 8.59316465e-05 2.15850537e-04 5.42192035e-04\n",
      "  1.36192482e-03 3.42100047e-03 8.59316465e-03 2.15850537e-02\n",
      "  5.42192035e-02 1.36192482e-01 3.42100047e-01 8.59316465e-01\n",
      "  2.15850537e+00 5.42192035e+00 1.36192482e+01]\n",
      " [8.59316465e-05 2.15850537e-04 5.42192035e-04 1.36192482e-03\n",
      "  3.42100047e-03 8.59316465e-03 2.15850537e-02 5.42192035e-02\n",
      "  1.36192482e-01 3.42100047e-01 8.59316465e-01 2.15850537e+00\n",
      "  5.42192035e+00 1.36192482e+01 3.42100047e+01]\n",
      " [2.15850537e-04 5.42192035e-04 1.36192482e-03 3.42100047e-03\n",
      "  8.59316465e-03 2.15850537e-02 5.42192035e-02 1.36192482e-01\n",
      "  3.42100047e-01 8.59316465e-01 2.15850537e+00 5.42192035e+00\n",
      "  1.36192482e+01 3.42100047e+01 8.59316465e+01]\n",
      " [5.42192035e-04 1.36192482e-03 3.42100047e-03 8.59316465e-03\n",
      "  2.15850537e-02 5.42192035e-02 1.36192482e-01 3.42100047e-01\n",
      "  8.59316465e-01 2.15850537e+00 5.42192035e+00 1.36192482e+01\n",
      "  3.42100047e+01 8.59316465e+01 2.15850537e+02]\n",
      " [1.36192482e-03 3.42100047e-03 8.59316465e-03 2.15850537e-02\n",
      "  5.42192035e-02 1.36192482e-01 3.42100047e-01 8.59316465e-01\n",
      "  2.15850537e+00 5.42192035e+00 1.36192482e+01 3.42100047e+01\n",
      "  8.59316465e+01 2.15850537e+02 5.42192035e+02]\n",
      " [3.42100047e-03 8.59316465e-03 2.15850537e-02 5.42192035e-02\n",
      "  1.36192482e-01 3.42100047e-01 8.59316465e-01 2.15850537e+00\n",
      "  5.42192035e+00 1.36192482e+01 3.42100047e+01 8.59316465e+01\n",
      "  2.15850537e+02 5.42192035e+02 1.36192482e+03]\n",
      " [8.59316465e-03 2.15850537e-02 5.42192035e-02 1.36192482e-01\n",
      "  3.42100047e-01 8.59316465e-01 2.15850537e+00 5.42192035e+00\n",
      "  1.36192482e+01 3.42100047e+01 8.59316465e+01 2.15850537e+02\n",
      "  5.42192035e+02 1.36192482e+03 3.42100047e+03]\n",
      " [2.15850537e-02 5.42192035e-02 1.36192482e-01 3.42100047e-01\n",
      "  8.59316465e-01 2.15850537e+00 5.42192035e+00 1.36192482e+01\n",
      "  3.42100047e+01 8.59316465e+01 2.15850537e+02 5.42192035e+02\n",
      "  1.36192482e+03 3.42100047e+03 8.59316465e+03]]\n"
     ]
    },
    {
     "data": {
      "image/png": "[encoded data removed]",
      "text/plain": [
       "<Figure size 720x720 with 1 Axes>"
      ]
     },
     "metadata": {
      "needs_background": "light"
     },
     "output_type": "display_data"
    }
   ],
   "source": [
    "x_bins = np.logspace(-5,0,26)\n",
    "Q2_bins = np.logspace(-1,5,31)\n",
    "qedhist, xedgesqed, yedgesqed, imageqed = plt.hist2d(qed['electronQ2'],qed['electronX'],bins=[Q2_bins,x_bins],norm=mpl.colors.LogNorm(),cmap=plt.cm.jet)\n",
    "plt.xscale(\"log\")\n",
    "plt.yscale(\"log\")\n",
    "plt.ylabel(\"Electron X\")\n",
    "plt.xlabel(\"Electron Q2\")\n",
    "\n",
    "x = 0\n",
    "y = 0\n",
    "\n",
    "areas = [ [0]*trunc(Q2_bins.size / 2) for i in range(trunc(x_bins.size / 2))]\n",
    "\n",
    "\n",
    "for i in range(trunc(x_bins.size / 2)):\n",
    "    y = 0\n",
    "    for j in range(trunc(Q2_bins.size / 2)):\n",
    "        area = (x_bins[x+1] - x_bins[x])*(Q2_bins[y+1] - Q2_bins[y])\n",
    "        areas[i][j] = area\n",
    "        y = y+2\n",
    "    x = x+2\n",
    "    \n",
    "areaHist = np.array(areas)"
   ]
  },
  {
   "cell_type": "code",
   "execution_count": 8,
   "metadata": {},
   "outputs": [
    {
     "data": {
      "text/plain": [
       "Text(1, 0, 'Electron Q2')"
      ]
     },
     "execution_count": 8,
     "metadata": {},
     "output_type": "execute_result"
    },
    {
     "data": {
      "image/png": "[encoded data removed]",
      "text/plain": [
       "<Figure size 720x720 with 1 Axes>"
      ]
     },
     "metadata": {
      "needs_background": "light"
     },
     "output_type": "display_data"
    }
   ],
   "source": [
    "file = ur.open('Kin.djangoh.NC.20x250_evt.root:data;1')\n",
    "noqed = file.arrays(['electronX','electronY','electronQ2','hadronX','hadronY','hadronQ2','DoubleAngleX','DoubleAngleY','DoubleAngleQ2','ISigmaX','ISigmaY','ISigmaQ2','TrueX','TrueY','TrueQ2','evtChannel'],library='pd')\n",
    "x_bins = np.logspace(-5,0,26)\n",
    "Q2_bins = np.logspace(-1,5,31)\n",
    "noqedhist, xedgesnoqed, yedgesnoqed, imagenoqed = plt.hist2d(noqed['electronQ2'],noqed['electronX'],bins=[Q2_bins,x_bins],norm=mpl.colors.LogNorm(),cmap=plt.cm.jet)\n",
    "plt.xscale(\"log\")\n",
    "plt.yscale(\"log\")\n",
    "plt.ylabel(\"Electron X\")\n",
    "plt.xlabel(\"Electron Q2\")\n",
    "\n",
    "\n"
   ]
  },
  {
   "cell_type": "code",
   "execution_count": 54,
   "metadata": {},
   "outputs": [
    {
     "name": "stderr",
     "output_type": "stream",
     "text": [
      "/Users/spreins/opt/anaconda3/lib/python3.7/site-packages/ipykernel_launcher.py:1: RuntimeWarning: divide by zero encountered in true_divide\n",
      "  \"\"\"Entry point for launching an IPython kernel.\n",
      "/Users/spreins/opt/anaconda3/lib/python3.7/site-packages/ipykernel_launcher.py:1: RuntimeWarning: invalid value encountered in true_divide\n",
      "  \"\"\"Entry point for launching an IPython kernel.\n"
     ]
    },
    {
     "data": {
      "text/plain": [
       "Text(0.5, 1.0, 'QED on / QED off')"
      ]
     },
     "execution_count": 54,
     "metadata": {},
     "output_type": "execute_result"
    },
    {
     "data": {
      "image/png": "[encoded data removed]",
      "text/plain": [
       "<Figure size 720x720 with 1 Axes>"
      ]
     },
     "metadata": {
      "needs_background": "light"
     },
     "output_type": "display_data"
    }
   ],
   "source": [
    "ratio = np.divide(qedhist,noqedhist)\n",
    "X,Y = np.meshgrid(xedgesqed,yedgesqed)\n",
    "im = plt.pcolormesh(np.transpose(X),np.transpose(Y),ratio,norm=mpl.colors.LogNorm())\n",
    "plt.xscale(\"log\")\n",
    "plt.yscale(\"log\")\n",
    "plt.ylabel(\"Electron X\")\n",
    "plt.xlabel(\"Electron Q2\")\n",
    "plt.title(\"QED on / QED off\")\n",
    "\n",
    "\n",
    "#locs, labels = plt.xticks()\n",
    "#labels = Q2_bins\n",
    "#plt.xticks(locs, labels)"
   ]
  },
  {
   "cell_type": "code",
   "execution_count": 30,
   "metadata": {},
   "outputs": [
    {
     "data": {
      "text/plain": [
       "(30, 25)"
      ]
     },
     "execution_count": 30,
     "metadata": {},
     "output_type": "execute_result"
    }
   ],
   "source": [
    "qedhist.shape"
   ]
  },
  {
   "cell_type": "code",
   "execution_count": 28,
   "metadata": {},
   "outputs": [
    {
     "data": {
      "text/plain": [
       "(30, 25)"
      ]
     },
     "execution_count": 28,
     "metadata": {},
     "output_type": "execute_result"
    }
   ],
   "source": [
    "ratio.shape"
   ]
  },
  {
   "cell_type": "code",
   "execution_count": 38,
   "metadata": {},
   "outputs": [
    {
     "data": {
      "text/plain": [
       "(31,)"
      ]
     },
     "execution_count": 38,
     "metadata": {},
     "output_type": "execute_result"
    }
   ],
   "source": [
    "xedgesqed.shape"
   ]
  },
  {
   "cell_type": "code",
   "execution_count": null,
   "metadata": {},
   "outputs": [],
   "source": []
  }
 ],
 "metadata": {
  "kernelspec": {
   "display_name": "Python 3",
   "language": "python",
   "name": "python3"
  },
  "language_info": {
   "codemirror_mode": {
    "name": "ipython",
    "version": 3
   },
   "file_extension": ".py",
   "mimetype": "text/x-python",
   "name": "python",
   "nbconvert_exporter": "python",
   "pygments_lexer": "ipython3",
   "version": "3.7.6"
  }
 },
 "nbformat": 4,
 "nbformat_minor": 4
}
